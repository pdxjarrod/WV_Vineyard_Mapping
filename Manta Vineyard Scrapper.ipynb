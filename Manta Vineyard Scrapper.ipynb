{
 "cells": [
  {
   "cell_type": "code",
   "execution_count": 1,
   "metadata": {},
   "outputs": [],
   "source": [
    "import pandas as pd\n",
    "from splinter import Browser\n",
    "from bs4 import BeautifulSoup\n",
    "import requests"
   ]
  },
  {
   "cell_type": "code",
   "execution_count": 2,
   "metadata": {},
   "outputs": [],
   "source": [
    "\n",
    "executable_path = {\"executable_path\": \"/Users/jarro/Downloads/chromedriver\"}\n",
    "browser = Browser(\"chrome\", **executable_path, headless=False)"
   ]
  },
  {
   "cell_type": "code",
   "execution_count": 3,
   "metadata": {},
   "outputs": [],
   "source": [
    "news_url = \"https://www.manta.com/search?search=vineyard&context=unknown&search_source=nav&city=Portland&state=Oregon&country=United%20States&pt=45.408493%2C-122.798096&device=desktop&screenResolution=1280x720&radius=32&pg=1\"\n",
    "browser.visit(news_url)\n",
    "html = browser.html\n",
    "soup = BeautifulSoup(html, \"html.parser\")"
   ]
  },
  {
   "cell_type": "code",
   "execution_count": 34,
   "metadata": {},
   "outputs": [
    {
     "name": "stdout",
     "output_type": "stream",
     "text": [
      "Dion Vineyard LLC\n",
      "5360 Sw Arrow Wood Lane\n",
      "-------------------------------------------------------------------------\n"
     ]
    }
   ],
   "source": [
    "listing = soup.find(\"div\", class_=\"flex flex-col w-full md:w-1/2 pl-8 text-gray-500\")\n",
    "winery_name = listing.find(\"a\", class_=\"cursor-pointer hover:text-primary\").text\n",
    "winery_address = listing.find(\"div\", class_ =\"hidden md:block\").text\n",
    "# winery_city_state = listing.find('div').text\n",
    "print(winery_name)\n",
    "\n",
    "print(winery_address)\n",
    "print('-------------------------------------------------------------------------')"
   ]
  },
  {
   "cell_type": "code",
   "execution_count": 70,
   "metadata": {},
   "outputs": [],
   "source": [
    "wineries = []\n",
    "\n",
    "# grapes = soup.find('div', class_='w-2/3 md:w-3/4 flex flex-row justify-center')\n",
    "general_data = soup.find_all('div', class_='w-2/3 md:w-3/4 flex flex-row justify-center')\n",
    "\n",
    "for x in general_data:\n",
    "    # Error handling\n",
    "    try:\n",
    "        # Identify and return title of listing\n",
    "        title = x.find('a', class_=\"cursor-pointer hover:text-primary\").text\n",
    "        # Identify and return price of listing\n",
    "        price = x.find('div', class_=\"hidden md:block\").text\n",
    "        # Identify and return link to listing\n",
    "#         link = result.a['href']\n",
    "\n",
    "        # Print results only if title, price, and link are available\n",
    "        if (title and price and link):\n",
    "            print('-------------')\n",
    "            print(title)\n",
    "            print(price)\n",
    "            print(link)\n",
    "    except AttributeError as e:\n",
    "        print('-------------')\n",
    "        print(e)"
   ]
  },
  {
   "cell_type": "code",
   "execution_count": 72,
   "metadata": {},
   "outputs": [
    {
     "data": {
      "text/plain": [
       "[]"
      ]
     },
     "execution_count": 72,
     "metadata": {},
     "output_type": "execute_result"
    }
   ],
   "source": [
    "wineries"
   ]
  },
  {
   "cell_type": "code",
   "execution_count": 37,
   "metadata": {},
   "outputs": [],
   "source": []
  },
  {
   "cell_type": "code",
   "execution_count": 38,
   "metadata": {},
   "outputs": [],
   "source": []
  },
  {
   "cell_type": "code",
   "execution_count": 39,
   "metadata": {},
   "outputs": [],
   "source": []
  },
  {
   "cell_type": "code",
   "execution_count": null,
   "metadata": {},
   "outputs": [],
   "source": []
  },
  {
   "cell_type": "code",
   "execution_count": null,
   "metadata": {},
   "outputs": [],
   "source": []
  }
 ],
 "metadata": {
  "kernelspec": {
   "display_name": "Python 3",
   "language": "python",
   "name": "python3"
  },
  "language_info": {
   "codemirror_mode": {
    "name": "ipython",
    "version": 3
   },
   "file_extension": ".py",
   "mimetype": "text/x-python",
   "name": "python",
   "nbconvert_exporter": "python",
   "pygments_lexer": "ipython3",
   "version": "3.7.6"
  }
 },
 "nbformat": 4,
 "nbformat_minor": 4
}
